{
 "cells": [
  {
   "cell_type": "markdown",
   "id": "4cfe4a2f-0283-4fb4-8e16-a0eaeac19650",
   "metadata": {},
   "source": [
    "series is advance of arry, it has only two columns"
   ]
  },
  {
   "cell_type": "code",
   "execution_count": 42,
   "id": "041266c0-5c9e-4fce-94a0-5fc7f07247e1",
   "metadata": {},
   "outputs": [],
   "source": [
    "import pandas as pd"
   ]
  },
  {
   "cell_type": "code",
   "execution_count": 43,
   "id": "f28776b5-5dae-4460-87d8-9fab846a589a",
   "metadata": {},
   "outputs": [
    {
     "name": "stdout",
     "output_type": "stream",
     "text": [
      "2.2.0\n"
     ]
    }
   ],
   "source": [
    "print(pd.__version__)"
   ]
  },
  {
   "cell_type": "code",
   "execution_count": 44,
   "id": "f318bc1f-2eab-4fa9-a5e2-60dda78d7df6",
   "metadata": {},
   "outputs": [
    {
     "data": {
      "text/plain": [
       "[10, 22, 33, 44, 55]"
      ]
     },
     "execution_count": 44,
     "metadata": {},
     "output_type": "execute_result"
    }
   ],
   "source": [
    "A=[10,22,33,44,55]\n",
    "A"
   ]
  },
  {
   "cell_type": "code",
   "execution_count": 45,
   "id": "58435c74-2755-49d7-87e2-694a0bc97163",
   "metadata": {},
   "outputs": [
    {
     "data": {
      "text/plain": [
       "0    10\n",
       "1    22\n",
       "2    33\n",
       "3    44\n",
       "4    55\n",
       "dtype: int64"
      ]
     },
     "execution_count": 45,
     "metadata": {},
     "output_type": "execute_result"
    }
   ],
   "source": [
    "s1=pd.Series(A)\n",
    "s1"
   ]
  },
  {
   "cell_type": "code",
   "execution_count": 46,
   "id": "85790d69-67a7-4655-a6e8-48320f780229",
   "metadata": {},
   "outputs": [],
   "source": [
    "#changing the index\n",
    "series=pd.Series(A,index=['one', 'two', 'three', 'four', 'five'])"
   ]
  },
  {
   "cell_type": "code",
   "execution_count": 47,
   "id": "1fb9a761-6022-41be-bfe8-a1dc78c344f8",
   "metadata": {},
   "outputs": [
    {
     "data": {
      "text/plain": [
       "one      10\n",
       "two      22\n",
       "three    33\n",
       "four     44\n",
       "five     55\n",
       "dtype: int64"
      ]
     },
     "execution_count": 47,
     "metadata": {},
     "output_type": "execute_result"
    }
   ],
   "source": [
    "series"
   ]
  },
  {
   "cell_type": "code",
   "execution_count": 48,
   "id": "d0c79865-dee7-481d-a12b-8c235b51525c",
   "metadata": {},
   "outputs": [],
   "source": [
    "#creating a series from scale value\n",
    "s3=pd.Series(50,index=[0,1,2,3,4])"
   ]
  },
  {
   "cell_type": "code",
   "execution_count": 49,
   "id": "59fb0984-18cc-4a0b-9d89-3297fc5a6a95",
   "metadata": {},
   "outputs": [
    {
     "data": {
      "text/plain": [
       "0    50\n",
       "1    50\n",
       "2    50\n",
       "3    50\n",
       "4    50\n",
       "dtype: int64"
      ]
     },
     "execution_count": 49,
     "metadata": {},
     "output_type": "execute_result"
    }
   ],
   "source": [
    "s3"
   ]
  },
  {
   "cell_type": "code",
   "execution_count": 50,
   "id": "be527376-ca02-45a3-aeef-143a926d2f84",
   "metadata": {},
   "outputs": [],
   "source": [
    "#create dictionary\n",
    "d={'Name':'Utkarsh','Year':'First','CGPA':7.64}"
   ]
  },
  {
   "cell_type": "code",
   "execution_count": 51,
   "id": "bce04728-5e63-4de5-ac45-42a6c72d4842",
   "metadata": {},
   "outputs": [
    {
     "data": {
      "text/plain": [
       "Name    Utkarsh\n",
       "Year      First\n",
       "CGPA       7.64\n",
       "dtype: object"
      ]
     },
     "execution_count": 51,
     "metadata": {},
     "output_type": "execute_result"
    }
   ],
   "source": [
    "#create sreies from dictionary\n",
    "s1=pd.Series(d)\n",
    "s1"
   ]
  },
  {
   "cell_type": "code",
   "execution_count": 52,
   "id": "b0095fcc-49d3-40f8-9694-e7d0e0686004",
   "metadata": {},
   "outputs": [],
   "source": [
    "a=[11,12,13,14,15]\n",
    "b=[21,22,23,24,24]"
   ]
  },
  {
   "cell_type": "code",
   "execution_count": 53,
   "id": "ee2338df-d39b-4956-9417-9647cdaa8e05",
   "metadata": {},
   "outputs": [],
   "source": [
    "s1=pd.Series(a)\n",
    "s2=pd.Series(b)"
   ]
  },
  {
   "cell_type": "code",
   "execution_count": 54,
   "id": "24ed3377-0147-4773-a8c4-b6b0b7945e3f",
   "metadata": {},
   "outputs": [
    {
     "data": {
      "text/plain": [
       "0    32\n",
       "1    34\n",
       "2    36\n",
       "3    38\n",
       "4    39\n",
       "dtype: int64"
      ]
     },
     "execution_count": 54,
     "metadata": {},
     "output_type": "execute_result"
    }
   ],
   "source": [
    "s3=s1+s2\n",
    "s3"
   ]
  },
  {
   "cell_type": "code",
   "execution_count": 55,
   "id": "2189a400-7cbe-4ae6-b900-bc7fc5cad6b5",
   "metadata": {},
   "outputs": [
    {
     "data": {
      "text/plain": [
       "0    22\n",
       "1    24\n",
       "2    26\n",
       "3    28\n",
       "4    30\n",
       "dtype: int64"
      ]
     },
     "execution_count": 55,
     "metadata": {},
     "output_type": "execute_result"
    }
   ],
   "source": [
    "s4=s1*2\n",
    "s4"
   ]
  },
  {
   "cell_type": "code",
   "execution_count": 56,
   "id": "1d3822a6-ec32-4328-9154-8e1a3789cb72",
   "metadata": {},
   "outputs": [
    {
     "data": {
      "text/plain": [
       "0    441\n",
       "1    484\n",
       "2    529\n",
       "3    576\n",
       "4    576\n",
       "dtype: int64"
      ]
     },
     "execution_count": 56,
     "metadata": {},
     "output_type": "execute_result"
    }
   ],
   "source": [
    "s5=s2**2\n",
    "s5"
   ]
  },
  {
   "cell_type": "code",
   "execution_count": 57,
   "id": "3ea97d15-8a53-42d9-878c-b5b6d0b8bb15",
   "metadata": {},
   "outputs": [
    {
     "data": {
      "text/plain": [
       "2    529\n",
       "3    576\n",
       "4    576\n",
       "dtype: int64"
      ]
     },
     "execution_count": 57,
     "metadata": {},
     "output_type": "execute_result"
    }
   ],
   "source": [
    "s6=(s5[s5>500])\n",
    "s6"
   ]
  },
  {
   "cell_type": "code",
   "execution_count": 58,
   "id": "7c730982-faa6-41f0-8bc9-a6cbb475340c",
   "metadata": {},
   "outputs": [],
   "source": [
    "list=[10,20,30,40,50,60,70,80,90,100]"
   ]
  },
  {
   "cell_type": "code",
   "execution_count": 59,
   "id": "4ff02dc5-ccdc-4029-8d76-4cc472b9b0a0",
   "metadata": {},
   "outputs": [],
   "source": [
    "s=pd.Series(list)"
   ]
  },
  {
   "cell_type": "code",
   "execution_count": 60,
   "id": "06c63556-8063-4f5e-9b9c-999d4223f246",
   "metadata": {},
   "outputs": [
    {
     "name": "stdout",
     "output_type": "stream",
     "text": [
      "0    10\n",
      "1    20\n",
      "2    30\n",
      "3    40\n",
      "4    50\n",
      "dtype: int64\n"
     ]
    }
   ],
   "source": [
    "print(s.head())"
   ]
  },
  {
   "cell_type": "markdown",
   "id": "9498c78b-93e2-40b9-a42f-1fcffaaaf592",
   "metadata": {},
   "source": [
    "head function by default returns first 5 elements"
   ]
  },
  {
   "cell_type": "code",
   "execution_count": 61,
   "id": "b631b29f-892c-4dbf-94a8-10aa4d79b10c",
   "metadata": {},
   "outputs": [
    {
     "name": "stdout",
     "output_type": "stream",
     "text": [
      "5     60\n",
      "6     70\n",
      "7     80\n",
      "8     90\n",
      "9    100\n",
      "dtype: int64\n"
     ]
    }
   ],
   "source": [
    "print(s.tail())"
   ]
  },
  {
   "cell_type": "markdown",
   "id": "260fd1cf-c34e-4ee0-abc6-f1270e8c6ddc",
   "metadata": {},
   "source": [
    "same goes for tail"
   ]
  },
  {
   "cell_type": "code",
   "execution_count": 62,
   "id": "91451942-e7cb-4df3-9db4-0c1ad3128d90",
   "metadata": {},
   "outputs": [
    {
     "name": "stdout",
     "output_type": "stream",
     "text": [
      "0    10\n",
      "1    20\n",
      "dtype: int64\n"
     ]
    }
   ],
   "source": [
    "print(s.head(2))"
   ]
  },
  {
   "cell_type": "markdown",
   "id": "e8960809-dfbd-4fc8-a5c6-11b0f9cdd6fd",
   "metadata": {},
   "source": [
    "if pased a parameter it will print 2 values"
   ]
  },
  {
   "cell_type": "code",
   "execution_count": 63,
   "id": "ef1bab4f-bdc7-4834-9c74-7a1d875a29c0",
   "metadata": {},
   "outputs": [
    {
     "name": "stdout",
     "output_type": "stream",
     "text": [
      "6    70\n",
      "dtype: int64\n"
     ]
    }
   ],
   "source": [
    "print(s.sample())"
   ]
  },
  {
   "cell_type": "markdown",
   "id": "d387268c-f555-4ca2-af80-d3f3c319e93b",
   "metadata": {},
   "source": [
    ".sample will select any one random value if passed no parameter"
   ]
  },
  {
   "cell_type": "code",
   "execution_count": 64,
   "id": "9416522a-befe-4ca5-8b7d-16f1c73a941f",
   "metadata": {},
   "outputs": [
    {
     "name": "stdout",
     "output_type": "stream",
     "text": [
      "0    10\n",
      "1    20\n",
      "2    30\n",
      "3    40\n",
      "dtype: int64\n"
     ]
    }
   ],
   "source": [
    "print(s.loc[:3])"
   ]
  },
  {
   "cell_type": "markdown",
   "id": "202981c0-92a5-4fed-ab8c-f8abab747071",
   "metadata": {},
   "source": [
    ".loc[] to print values including last index--It works as slicing"
   ]
  },
  {
   "cell_type": "code",
   "execution_count": 65,
   "id": "33e1b355-091e-4e5b-b068-ffa2918b6931",
   "metadata": {},
   "outputs": [
    {
     "name": "stdout",
     "output_type": "stream",
     "text": [
      "0    10\n",
      "1    20\n",
      "2    30\n",
      "dtype: int64\n"
     ]
    }
   ],
   "source": [
    "print(s.iloc[:3])"
   ]
  },
  {
   "cell_type": "markdown",
   "id": "eee8137c-5a5e-45f4-851d-52187b83215e",
   "metadata": {},
   "source": [
    ".iloc[] print values excluding last index--loc and iloc are not functions but head, tail & sample, are function"
   ]
  },
  {
   "cell_type": "code",
   "execution_count": 67,
   "id": "3c1aca31-dde6-4365-be95-6ab041d779c4",
   "metadata": {},
   "outputs": [
    {
     "name": "stdout",
     "output_type": "stream",
     "text": [
      "3    40\n",
      "4    50\n",
      "5    60\n",
      "6    70\n",
      "7    80\n",
      "dtype: int64\n",
      "3    40\n",
      "4    50\n",
      "5    60\n",
      "6    70\n",
      "dtype: int64\n"
     ]
    }
   ],
   "source": [
    "print(s.loc[3:7])\n",
    "print(s.iloc[3:7])"
   ]
  },
  {
   "cell_type": "code",
   "execution_count": 70,
   "id": "55b00c4d-9477-4268-b1a3-13820faae62e",
   "metadata": {},
   "outputs": [
    {
     "data": {
      "text/plain": [
       "one      10\n",
       "two      22\n",
       "three    33\n",
       "four     44\n",
       "five     55\n",
       "dtype: int64"
      ]
     },
     "execution_count": 70,
     "metadata": {},
     "output_type": "execute_result"
    }
   ],
   "source": [
    "series"
   ]
  },
  {
   "cell_type": "code",
   "execution_count": 75,
   "id": "a1b5dc28-2e26-4fb5-9cb0-d7246986d873",
   "metadata": {},
   "outputs": [
    {
     "data": {
      "text/plain": [
       "one    10\n",
       "two    22\n",
       "dtype: int64"
      ]
     },
     "execution_count": 75,
     "metadata": {},
     "output_type": "execute_result"
    }
   ],
   "source": [
    "series.loc[:\"two\"]"
   ]
  },
  {
   "cell_type": "markdown",
   "id": "df9785a7-813f-433a-a834-0a9915704680",
   "metadata": {},
   "source": [
    "loc interacts with user given actual index"
   ]
  },
  {
   "cell_type": "code",
   "execution_count": 79,
   "id": "02db933c-c660-404e-8e12-b57d9a35a45c",
   "metadata": {},
   "outputs": [
    {
     "data": {
      "text/plain": [
       "one    10\n",
       "two    22\n",
       "dtype: int64"
      ]
     },
     "execution_count": 79,
     "metadata": {},
     "output_type": "execute_result"
    }
   ],
   "source": [
    "series.iloc[:2]"
   ]
  },
  {
   "cell_type": "markdown",
   "id": "6a91d276-f440-4fa4-8a88-6cd7631a069c",
   "metadata": {},
   "source": [
    "but iloc is able to access only numeric values"
   ]
  },
  {
   "cell_type": "code",
   "execution_count": 80,
   "id": "ec0daf42-8809-4a98-8002-ad17af674704",
   "metadata": {},
   "outputs": [
    {
     "data": {
      "text/plain": [
       "Index(['one', 'two', 'three', 'four', 'five'], dtype='object')"
      ]
     },
     "execution_count": 80,
     "metadata": {},
     "output_type": "execute_result"
    }
   ],
   "source": [
    "#printing user given index\n",
    "series.index"
   ]
  },
  {
   "cell_type": "code",
   "execution_count": 81,
   "id": "a77294fb-e589-4b91-bc13-9a92c9dbc09d",
   "metadata": {},
   "outputs": [
    {
     "data": {
      "text/plain": [
       "0     10\n",
       "1     20\n",
       "2     30\n",
       "3     40\n",
       "4     50\n",
       "5     60\n",
       "6     70\n",
       "7     80\n",
       "8     90\n",
       "9    100\n",
       "dtype: int64"
      ]
     },
     "execution_count": 81,
     "metadata": {},
     "output_type": "execute_result"
    }
   ],
   "source": [
    "s"
   ]
  },
  {
   "cell_type": "code",
   "execution_count": 82,
   "id": "5672fb6e-4edc-4694-ab6a-c0299f5fdd62",
   "metadata": {},
   "outputs": [
    {
     "data": {
      "text/plain": [
       "RangeIndex(start=0, stop=10, step=1)"
      ]
     },
     "execution_count": 82,
     "metadata": {},
     "output_type": "execute_result"
    }
   ],
   "source": [
    "s.index"
   ]
  },
  {
   "cell_type": "code",
   "execution_count": 91,
   "id": "0c9b7a10-a476-46e2-b8c4-7419ee8b20e7",
   "metadata": {},
   "outputs": [
    {
     "data": {
      "text/plain": [
       "1     20.0\n",
       "2     30.0\n",
       "3     40.0\n",
       "4     50.0\n",
       "5     60.0\n",
       "6     70.0\n",
       "7     80.0\n",
       "8     90.0\n",
       "9    100.0\n",
       "dtype: float64"
      ]
     },
     "execution_count": 91,
     "metadata": {},
     "output_type": "execute_result"
    }
   ],
   "source": [
    "s=pd.Series(s,index=[1,2,3,4,5,6,7,8,9])\n",
    "s"
   ]
  },
  {
   "cell_type": "code",
   "execution_count": 92,
   "id": "52ac5e84-ce15-44ed-8cee-c9a4ef6d25b7",
   "metadata": {},
   "outputs": [
    {
     "data": {
      "text/plain": [
       "Index([1, 2, 3, 4, 5, 6, 7, 8, 9], dtype='int64')"
      ]
     },
     "execution_count": 92,
     "metadata": {},
     "output_type": "execute_result"
    }
   ],
   "source": [
    "s.index"
   ]
  },
  {
   "cell_type": "markdown",
   "id": "258cb99d-2676-42c8-b615-061096e33918",
   "metadata": {},
   "source": [
    ".index only works on series ont list"
   ]
  },
  {
   "cell_type": "code",
   "execution_count": 96,
   "id": "b1e5d9a2-1253-40e2-bb7f-3455c4a4d326",
   "metadata": {},
   "outputs": [
    {
     "data": {
      "text/plain": [
       "1     20.0\n",
       "3     40.0\n",
       "5     60.0\n",
       "7     80.0\n",
       "9    100.0\n",
       "dtype: float64"
      ]
     },
     "execution_count": 96,
     "metadata": {},
     "output_type": "execute_result"
    }
   ],
   "source": [
    "s.loc[:9:2]"
   ]
  },
  {
   "cell_type": "code",
   "execution_count": null,
   "id": "0f77faec-6ec6-4abe-9c0f-f897ad1b62e5",
   "metadata": {},
   "outputs": [],
   "source": []
  },
  {
   "cell_type": "code",
   "execution_count": null,
   "id": "3f561209-318b-44c0-858c-931012e794cd",
   "metadata": {},
   "outputs": [],
   "source": []
  }
 ],
 "metadata": {
  "kernelspec": {
   "display_name": "Python 3 (ipykernel)",
   "language": "python",
   "name": "python3"
  },
  "language_info": {
   "codemirror_mode": {
    "name": "ipython",
    "version": 3
   },
   "file_extension": ".py",
   "mimetype": "text/x-python",
   "name": "python",
   "nbconvert_exporter": "python",
   "pygments_lexer": "ipython3",
   "version": "3.11.5"
  }
 },
 "nbformat": 4,
 "nbformat_minor": 5
}
